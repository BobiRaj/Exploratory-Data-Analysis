{
 "cells": [
  {
   "cell_type": "code",
   "execution_count": 51,
   "id": "f66bf6ea",
   "metadata": {},
   "outputs": [],
   "source": [
    "import pandas as pd\n",
    "import numpy as np\n",
    "import matplotlib "
   ]
  },
  {
   "cell_type": "code",
   "execution_count": 52,
   "id": "31247607",
   "metadata": {},
   "outputs": [],
   "source": [
    "df = pd.read_csv('data.csv')"
   ]
  },
  {
   "cell_type": "code",
   "execution_count": 53,
   "id": "a6e399e9",
   "metadata": {},
   "outputs": [
    {
     "data": {
      "text/html": [
       "<div>\n",
       "<style scoped>\n",
       "    .dataframe tbody tr th:only-of-type {\n",
       "        vertical-align: middle;\n",
       "    }\n",
       "\n",
       "    .dataframe tbody tr th {\n",
       "        vertical-align: top;\n",
       "    }\n",
       "\n",
       "    .dataframe thead th {\n",
       "        text-align: right;\n",
       "    }\n",
       "</style>\n",
       "<table border=\"1\" class=\"dataframe\">\n",
       "  <thead>\n",
       "    <tr style=\"text-align: right;\">\n",
       "      <th></th>\n",
       "      <th>Date</th>\n",
       "      <th>Open</th>\n",
       "      <th>High</th>\n",
       "      <th>Low</th>\n",
       "      <th>Close</th>\n",
       "      <th>Shares Traded</th>\n",
       "      <th>Turnover (Rs. Cr)</th>\n",
       "    </tr>\n",
       "  </thead>\n",
       "  <tbody>\n",
       "    <tr>\n",
       "      <th>0</th>\n",
       "      <td>03-Jan-2022</td>\n",
       "      <td>17387.15</td>\n",
       "      <td>17646.65</td>\n",
       "      <td>17383.30</td>\n",
       "      <td>17625.70</td>\n",
       "      <td>200456430</td>\n",
       "      <td>16181.36</td>\n",
       "    </tr>\n",
       "    <tr>\n",
       "      <th>1</th>\n",
       "      <td>04-Jan-2022</td>\n",
       "      <td>17681.40</td>\n",
       "      <td>17827.60</td>\n",
       "      <td>17593.55</td>\n",
       "      <td>17805.25</td>\n",
       "      <td>247437472</td>\n",
       "      <td>18604.16</td>\n",
       "    </tr>\n",
       "    <tr>\n",
       "      <th>2</th>\n",
       "      <td>05-Jan-2022</td>\n",
       "      <td>17820.10</td>\n",
       "      <td>17944.70</td>\n",
       "      <td>17748.85</td>\n",
       "      <td>17925.25</td>\n",
       "      <td>251460038</td>\n",
       "      <td>23737.31</td>\n",
       "    </tr>\n",
       "    <tr>\n",
       "      <th>3</th>\n",
       "      <td>06-Jan-2022</td>\n",
       "      <td>17768.50</td>\n",
       "      <td>17797.95</td>\n",
       "      <td>17655.55</td>\n",
       "      <td>17745.90</td>\n",
       "      <td>236454824</td>\n",
       "      <td>22643.82</td>\n",
       "    </tr>\n",
       "    <tr>\n",
       "      <th>4</th>\n",
       "      <td>07-Jan-2022</td>\n",
       "      <td>17797.60</td>\n",
       "      <td>17905.00</td>\n",
       "      <td>17704.55</td>\n",
       "      <td>17812.70</td>\n",
       "      <td>239338015</td>\n",
       "      <td>21447.89</td>\n",
       "    </tr>\n",
       "    <tr>\n",
       "      <th>...</th>\n",
       "      <td>...</td>\n",
       "      <td>...</td>\n",
       "      <td>...</td>\n",
       "      <td>...</td>\n",
       "      <td>...</td>\n",
       "      <td>...</td>\n",
       "      <td>...</td>\n",
       "    </tr>\n",
       "    <tr>\n",
       "      <th>211</th>\n",
       "      <td>10-Nov-2022</td>\n",
       "      <td>18044.35</td>\n",
       "      <td>18103.10</td>\n",
       "      <td>17969.40</td>\n",
       "      <td>18028.20</td>\n",
       "      <td>256451785</td>\n",
       "      <td>19848.06</td>\n",
       "    </tr>\n",
       "    <tr>\n",
       "      <th>212</th>\n",
       "      <td>11-Nov-2022</td>\n",
       "      <td>18272.35</td>\n",
       "      <td>18362.30</td>\n",
       "      <td>18259.35</td>\n",
       "      <td>18349.70</td>\n",
       "      <td>378469072</td>\n",
       "      <td>30732.11</td>\n",
       "    </tr>\n",
       "    <tr>\n",
       "      <th>213</th>\n",
       "      <td>14-Nov-2022</td>\n",
       "      <td>18376.40</td>\n",
       "      <td>18399.45</td>\n",
       "      <td>18311.40</td>\n",
       "      <td>18329.15</td>\n",
       "      <td>301401961</td>\n",
       "      <td>21697.66</td>\n",
       "    </tr>\n",
       "    <tr>\n",
       "      <th>214</th>\n",
       "      <td>15-Nov-2022</td>\n",
       "      <td>18362.75</td>\n",
       "      <td>18427.95</td>\n",
       "      <td>18282.00</td>\n",
       "      <td>18403.40</td>\n",
       "      <td>250926391</td>\n",
       "      <td>17836.19</td>\n",
       "    </tr>\n",
       "    <tr>\n",
       "      <th>215</th>\n",
       "      <td>16-Nov-2022</td>\n",
       "      <td>18398.25</td>\n",
       "      <td>18442.15</td>\n",
       "      <td>18344.15</td>\n",
       "      <td>18409.65</td>\n",
       "      <td>219268992</td>\n",
       "      <td>19732.87</td>\n",
       "    </tr>\n",
       "  </tbody>\n",
       "</table>\n",
       "<p>216 rows × 7 columns</p>\n",
       "</div>"
      ],
      "text/plain": [
       "            Date      Open      High       Low     Close  Shares Traded  \\\n",
       "0    03-Jan-2022  17387.15  17646.65  17383.30  17625.70      200456430   \n",
       "1    04-Jan-2022  17681.40  17827.60  17593.55  17805.25      247437472   \n",
       "2    05-Jan-2022  17820.10  17944.70  17748.85  17925.25      251460038   \n",
       "3    06-Jan-2022  17768.50  17797.95  17655.55  17745.90      236454824   \n",
       "4    07-Jan-2022  17797.60  17905.00  17704.55  17812.70      239338015   \n",
       "..           ...       ...       ...       ...       ...            ...   \n",
       "211  10-Nov-2022  18044.35  18103.10  17969.40  18028.20      256451785   \n",
       "212  11-Nov-2022  18272.35  18362.30  18259.35  18349.70      378469072   \n",
       "213  14-Nov-2022  18376.40  18399.45  18311.40  18329.15      301401961   \n",
       "214  15-Nov-2022  18362.75  18427.95  18282.00  18403.40      250926391   \n",
       "215  16-Nov-2022  18398.25  18442.15  18344.15  18409.65      219268992   \n",
       "\n",
       "     Turnover (Rs. Cr)  \n",
       "0             16181.36  \n",
       "1             18604.16  \n",
       "2             23737.31  \n",
       "3             22643.82  \n",
       "4             21447.89  \n",
       "..                 ...  \n",
       "211           19848.06  \n",
       "212           30732.11  \n",
       "213           21697.66  \n",
       "214           17836.19  \n",
       "215           19732.87  \n",
       "\n",
       "[216 rows x 7 columns]"
      ]
     },
     "execution_count": 53,
     "metadata": {},
     "output_type": "execute_result"
    }
   ],
   "source": [
    "df"
   ]
  },
  {
   "cell_type": "code",
   "execution_count": 54,
   "id": "f718647d",
   "metadata": {},
   "outputs": [
    {
     "data": {
      "text/html": [
       "<div>\n",
       "<style scoped>\n",
       "    .dataframe tbody tr th:only-of-type {\n",
       "        vertical-align: middle;\n",
       "    }\n",
       "\n",
       "    .dataframe tbody tr th {\n",
       "        vertical-align: top;\n",
       "    }\n",
       "\n",
       "    .dataframe thead th {\n",
       "        text-align: right;\n",
       "    }\n",
       "</style>\n",
       "<table border=\"1\" class=\"dataframe\">\n",
       "  <thead>\n",
       "    <tr style=\"text-align: right;\">\n",
       "      <th></th>\n",
       "      <th>Date</th>\n",
       "      <th>Open</th>\n",
       "      <th>High</th>\n",
       "      <th>Low</th>\n",
       "      <th>Close</th>\n",
       "      <th>Shares Traded</th>\n",
       "      <th>Turnover (Rs. Cr)</th>\n",
       "    </tr>\n",
       "  </thead>\n",
       "  <tbody>\n",
       "    <tr>\n",
       "      <th>0</th>\n",
       "      <td>03-Jan-2022</td>\n",
       "      <td>17387.15</td>\n",
       "      <td>17646.65</td>\n",
       "      <td>17383.30</td>\n",
       "      <td>17625.70</td>\n",
       "      <td>200456430</td>\n",
       "      <td>16181.36</td>\n",
       "    </tr>\n",
       "    <tr>\n",
       "      <th>1</th>\n",
       "      <td>04-Jan-2022</td>\n",
       "      <td>17681.40</td>\n",
       "      <td>17827.60</td>\n",
       "      <td>17593.55</td>\n",
       "      <td>17805.25</td>\n",
       "      <td>247437472</td>\n",
       "      <td>18604.16</td>\n",
       "    </tr>\n",
       "    <tr>\n",
       "      <th>2</th>\n",
       "      <td>05-Jan-2022</td>\n",
       "      <td>17820.10</td>\n",
       "      <td>17944.70</td>\n",
       "      <td>17748.85</td>\n",
       "      <td>17925.25</td>\n",
       "      <td>251460038</td>\n",
       "      <td>23737.31</td>\n",
       "    </tr>\n",
       "    <tr>\n",
       "      <th>3</th>\n",
       "      <td>06-Jan-2022</td>\n",
       "      <td>17768.50</td>\n",
       "      <td>17797.95</td>\n",
       "      <td>17655.55</td>\n",
       "      <td>17745.90</td>\n",
       "      <td>236454824</td>\n",
       "      <td>22643.82</td>\n",
       "    </tr>\n",
       "    <tr>\n",
       "      <th>4</th>\n",
       "      <td>07-Jan-2022</td>\n",
       "      <td>17797.60</td>\n",
       "      <td>17905.00</td>\n",
       "      <td>17704.55</td>\n",
       "      <td>17812.70</td>\n",
       "      <td>239338015</td>\n",
       "      <td>21447.89</td>\n",
       "    </tr>\n",
       "  </tbody>\n",
       "</table>\n",
       "</div>"
      ],
      "text/plain": [
       "          Date      Open      High       Low     Close  Shares Traded  \\\n",
       "0  03-Jan-2022  17387.15  17646.65  17383.30  17625.70      200456430   \n",
       "1  04-Jan-2022  17681.40  17827.60  17593.55  17805.25      247437472   \n",
       "2  05-Jan-2022  17820.10  17944.70  17748.85  17925.25      251460038   \n",
       "3  06-Jan-2022  17768.50  17797.95  17655.55  17745.90      236454824   \n",
       "4  07-Jan-2022  17797.60  17905.00  17704.55  17812.70      239338015   \n",
       "\n",
       "   Turnover (Rs. Cr)  \n",
       "0           16181.36  \n",
       "1           18604.16  \n",
       "2           23737.31  \n",
       "3           22643.82  \n",
       "4           21447.89  "
      ]
     },
     "execution_count": 54,
     "metadata": {},
     "output_type": "execute_result"
    }
   ],
   "source": [
    "df.head()"
   ]
  },
  {
   "cell_type": "code",
   "execution_count": 55,
   "id": "5eb03c23",
   "metadata": {},
   "outputs": [
    {
     "data": {
      "text/html": [
       "<div>\n",
       "<style scoped>\n",
       "    .dataframe tbody tr th:only-of-type {\n",
       "        vertical-align: middle;\n",
       "    }\n",
       "\n",
       "    .dataframe tbody tr th {\n",
       "        vertical-align: top;\n",
       "    }\n",
       "\n",
       "    .dataframe thead th {\n",
       "        text-align: right;\n",
       "    }\n",
       "</style>\n",
       "<table border=\"1\" class=\"dataframe\">\n",
       "  <thead>\n",
       "    <tr style=\"text-align: right;\">\n",
       "      <th></th>\n",
       "      <th>Date</th>\n",
       "      <th>Open</th>\n",
       "      <th>High</th>\n",
       "      <th>Low</th>\n",
       "      <th>Close</th>\n",
       "      <th>Shares Traded</th>\n",
       "      <th>Turnover (Rs. Cr)</th>\n",
       "    </tr>\n",
       "  </thead>\n",
       "  <tbody>\n",
       "    <tr>\n",
       "      <th>206</th>\n",
       "      <td>02-Nov-2022</td>\n",
       "      <td>18177.90</td>\n",
       "      <td>18178.75</td>\n",
       "      <td>18048.65</td>\n",
       "      <td>18082.85</td>\n",
       "      <td>270878019</td>\n",
       "      <td>20072.62</td>\n",
       "    </tr>\n",
       "    <tr>\n",
       "      <th>207</th>\n",
       "      <td>03-Nov-2022</td>\n",
       "      <td>17968.35</td>\n",
       "      <td>18106.30</td>\n",
       "      <td>17959.20</td>\n",
       "      <td>18052.70</td>\n",
       "      <td>212968291</td>\n",
       "      <td>16037.78</td>\n",
       "    </tr>\n",
       "    <tr>\n",
       "      <th>208</th>\n",
       "      <td>04-Nov-2022</td>\n",
       "      <td>18053.40</td>\n",
       "      <td>18135.10</td>\n",
       "      <td>18017.15</td>\n",
       "      <td>18117.15</td>\n",
       "      <td>267941526</td>\n",
       "      <td>21062.54</td>\n",
       "    </tr>\n",
       "    <tr>\n",
       "      <th>209</th>\n",
       "      <td>07-Nov-2022</td>\n",
       "      <td>18211.75</td>\n",
       "      <td>18255.50</td>\n",
       "      <td>18064.75</td>\n",
       "      <td>18202.80</td>\n",
       "      <td>314758398</td>\n",
       "      <td>25124.84</td>\n",
       "    </tr>\n",
       "    <tr>\n",
       "      <th>210</th>\n",
       "      <td>09-Nov-2022</td>\n",
       "      <td>18288.25</td>\n",
       "      <td>18296.40</td>\n",
       "      <td>18117.50</td>\n",
       "      <td>18157.00</td>\n",
       "      <td>307155149</td>\n",
       "      <td>23344.58</td>\n",
       "    </tr>\n",
       "    <tr>\n",
       "      <th>211</th>\n",
       "      <td>10-Nov-2022</td>\n",
       "      <td>18044.35</td>\n",
       "      <td>18103.10</td>\n",
       "      <td>17969.40</td>\n",
       "      <td>18028.20</td>\n",
       "      <td>256451785</td>\n",
       "      <td>19848.06</td>\n",
       "    </tr>\n",
       "    <tr>\n",
       "      <th>212</th>\n",
       "      <td>11-Nov-2022</td>\n",
       "      <td>18272.35</td>\n",
       "      <td>18362.30</td>\n",
       "      <td>18259.35</td>\n",
       "      <td>18349.70</td>\n",
       "      <td>378469072</td>\n",
       "      <td>30732.11</td>\n",
       "    </tr>\n",
       "    <tr>\n",
       "      <th>213</th>\n",
       "      <td>14-Nov-2022</td>\n",
       "      <td>18376.40</td>\n",
       "      <td>18399.45</td>\n",
       "      <td>18311.40</td>\n",
       "      <td>18329.15</td>\n",
       "      <td>301401961</td>\n",
       "      <td>21697.66</td>\n",
       "    </tr>\n",
       "    <tr>\n",
       "      <th>214</th>\n",
       "      <td>15-Nov-2022</td>\n",
       "      <td>18362.75</td>\n",
       "      <td>18427.95</td>\n",
       "      <td>18282.00</td>\n",
       "      <td>18403.40</td>\n",
       "      <td>250926391</td>\n",
       "      <td>17836.19</td>\n",
       "    </tr>\n",
       "    <tr>\n",
       "      <th>215</th>\n",
       "      <td>16-Nov-2022</td>\n",
       "      <td>18398.25</td>\n",
       "      <td>18442.15</td>\n",
       "      <td>18344.15</td>\n",
       "      <td>18409.65</td>\n",
       "      <td>219268992</td>\n",
       "      <td>19732.87</td>\n",
       "    </tr>\n",
       "  </tbody>\n",
       "</table>\n",
       "</div>"
      ],
      "text/plain": [
       "            Date      Open      High       Low     Close  Shares Traded  \\\n",
       "206  02-Nov-2022  18177.90  18178.75  18048.65  18082.85      270878019   \n",
       "207  03-Nov-2022  17968.35  18106.30  17959.20  18052.70      212968291   \n",
       "208  04-Nov-2022  18053.40  18135.10  18017.15  18117.15      267941526   \n",
       "209  07-Nov-2022  18211.75  18255.50  18064.75  18202.80      314758398   \n",
       "210  09-Nov-2022  18288.25  18296.40  18117.50  18157.00      307155149   \n",
       "211  10-Nov-2022  18044.35  18103.10  17969.40  18028.20      256451785   \n",
       "212  11-Nov-2022  18272.35  18362.30  18259.35  18349.70      378469072   \n",
       "213  14-Nov-2022  18376.40  18399.45  18311.40  18329.15      301401961   \n",
       "214  15-Nov-2022  18362.75  18427.95  18282.00  18403.40      250926391   \n",
       "215  16-Nov-2022  18398.25  18442.15  18344.15  18409.65      219268992   \n",
       "\n",
       "     Turnover (Rs. Cr)  \n",
       "206           20072.62  \n",
       "207           16037.78  \n",
       "208           21062.54  \n",
       "209           25124.84  \n",
       "210           23344.58  \n",
       "211           19848.06  \n",
       "212           30732.11  \n",
       "213           21697.66  \n",
       "214           17836.19  \n",
       "215           19732.87  "
      ]
     },
     "execution_count": 55,
     "metadata": {},
     "output_type": "execute_result"
    }
   ],
   "source": [
    "df.tail(10)"
   ]
  },
  {
   "cell_type": "code",
   "execution_count": 56,
   "id": "5b0ff8c8",
   "metadata": {},
   "outputs": [
    {
     "data": {
      "text/html": [
       "<div>\n",
       "<style scoped>\n",
       "    .dataframe tbody tr th:only-of-type {\n",
       "        vertical-align: middle;\n",
       "    }\n",
       "\n",
       "    .dataframe tbody tr th {\n",
       "        vertical-align: top;\n",
       "    }\n",
       "\n",
       "    .dataframe thead th {\n",
       "        text-align: right;\n",
       "    }\n",
       "</style>\n",
       "<table border=\"1\" class=\"dataframe\">\n",
       "  <thead>\n",
       "    <tr style=\"text-align: right;\">\n",
       "      <th></th>\n",
       "      <th>Date</th>\n",
       "      <th>Open</th>\n",
       "      <th>High</th>\n",
       "      <th>Low</th>\n",
       "      <th>Close</th>\n",
       "      <th>Shares Traded</th>\n",
       "      <th>Turnover (Rs. Cr)</th>\n",
       "    </tr>\n",
       "  </thead>\n",
       "  <tbody>\n",
       "    <tr>\n",
       "      <th>0</th>\n",
       "      <td>False</td>\n",
       "      <td>False</td>\n",
       "      <td>False</td>\n",
       "      <td>False</td>\n",
       "      <td>False</td>\n",
       "      <td>False</td>\n",
       "      <td>False</td>\n",
       "    </tr>\n",
       "    <tr>\n",
       "      <th>1</th>\n",
       "      <td>False</td>\n",
       "      <td>False</td>\n",
       "      <td>False</td>\n",
       "      <td>False</td>\n",
       "      <td>False</td>\n",
       "      <td>False</td>\n",
       "      <td>False</td>\n",
       "    </tr>\n",
       "    <tr>\n",
       "      <th>2</th>\n",
       "      <td>False</td>\n",
       "      <td>False</td>\n",
       "      <td>False</td>\n",
       "      <td>False</td>\n",
       "      <td>False</td>\n",
       "      <td>False</td>\n",
       "      <td>False</td>\n",
       "    </tr>\n",
       "    <tr>\n",
       "      <th>3</th>\n",
       "      <td>False</td>\n",
       "      <td>False</td>\n",
       "      <td>False</td>\n",
       "      <td>False</td>\n",
       "      <td>False</td>\n",
       "      <td>False</td>\n",
       "      <td>False</td>\n",
       "    </tr>\n",
       "    <tr>\n",
       "      <th>4</th>\n",
       "      <td>False</td>\n",
       "      <td>False</td>\n",
       "      <td>False</td>\n",
       "      <td>False</td>\n",
       "      <td>False</td>\n",
       "      <td>False</td>\n",
       "      <td>False</td>\n",
       "    </tr>\n",
       "    <tr>\n",
       "      <th>...</th>\n",
       "      <td>...</td>\n",
       "      <td>...</td>\n",
       "      <td>...</td>\n",
       "      <td>...</td>\n",
       "      <td>...</td>\n",
       "      <td>...</td>\n",
       "      <td>...</td>\n",
       "    </tr>\n",
       "    <tr>\n",
       "      <th>211</th>\n",
       "      <td>False</td>\n",
       "      <td>False</td>\n",
       "      <td>False</td>\n",
       "      <td>False</td>\n",
       "      <td>False</td>\n",
       "      <td>False</td>\n",
       "      <td>False</td>\n",
       "    </tr>\n",
       "    <tr>\n",
       "      <th>212</th>\n",
       "      <td>False</td>\n",
       "      <td>False</td>\n",
       "      <td>False</td>\n",
       "      <td>False</td>\n",
       "      <td>False</td>\n",
       "      <td>False</td>\n",
       "      <td>False</td>\n",
       "    </tr>\n",
       "    <tr>\n",
       "      <th>213</th>\n",
       "      <td>False</td>\n",
       "      <td>False</td>\n",
       "      <td>False</td>\n",
       "      <td>False</td>\n",
       "      <td>False</td>\n",
       "      <td>False</td>\n",
       "      <td>False</td>\n",
       "    </tr>\n",
       "    <tr>\n",
       "      <th>214</th>\n",
       "      <td>False</td>\n",
       "      <td>False</td>\n",
       "      <td>False</td>\n",
       "      <td>False</td>\n",
       "      <td>False</td>\n",
       "      <td>False</td>\n",
       "      <td>False</td>\n",
       "    </tr>\n",
       "    <tr>\n",
       "      <th>215</th>\n",
       "      <td>False</td>\n",
       "      <td>False</td>\n",
       "      <td>False</td>\n",
       "      <td>False</td>\n",
       "      <td>False</td>\n",
       "      <td>False</td>\n",
       "      <td>False</td>\n",
       "    </tr>\n",
       "  </tbody>\n",
       "</table>\n",
       "<p>216 rows × 7 columns</p>\n",
       "</div>"
      ],
      "text/plain": [
       "      Date   Open   High    Low  Close  Shares Traded  Turnover (Rs. Cr)\n",
       "0    False  False  False  False  False          False              False\n",
       "1    False  False  False  False  False          False              False\n",
       "2    False  False  False  False  False          False              False\n",
       "3    False  False  False  False  False          False              False\n",
       "4    False  False  False  False  False          False              False\n",
       "..     ...    ...    ...    ...    ...            ...                ...\n",
       "211  False  False  False  False  False          False              False\n",
       "212  False  False  False  False  False          False              False\n",
       "213  False  False  False  False  False          False              False\n",
       "214  False  False  False  False  False          False              False\n",
       "215  False  False  False  False  False          False              False\n",
       "\n",
       "[216 rows x 7 columns]"
      ]
     },
     "execution_count": 56,
     "metadata": {},
     "output_type": "execute_result"
    }
   ],
   "source": [
    "df.isnull()"
   ]
  },
  {
   "cell_type": "code",
   "execution_count": 57,
   "id": "e970f316",
   "metadata": {},
   "outputs": [
    {
     "data": {
      "text/plain": [
       "Date                 0\n",
       "Open                 0\n",
       "High                 0\n",
       "Low                  0\n",
       "Close                0\n",
       "Shares Traded        0\n",
       "Turnover (Rs. Cr)    0\n",
       "dtype: int64"
      ]
     },
     "execution_count": 57,
     "metadata": {},
     "output_type": "execute_result"
    }
   ],
   "source": [
    "df.isnull().sum()"
   ]
  },
  {
   "cell_type": "code",
   "execution_count": 58,
   "id": "9416e28a",
   "metadata": {},
   "outputs": [
    {
     "data": {
      "text/plain": [
       "(216, 7)"
      ]
     },
     "execution_count": 58,
     "metadata": {},
     "output_type": "execute_result"
    }
   ],
   "source": [
    "df.shape"
   ]
  },
  {
   "cell_type": "code",
   "execution_count": 59,
   "id": "d651fd30",
   "metadata": {},
   "outputs": [
    {
     "data": {
      "text/html": [
       "<div>\n",
       "<style scoped>\n",
       "    .dataframe tbody tr th:only-of-type {\n",
       "        vertical-align: middle;\n",
       "    }\n",
       "\n",
       "    .dataframe tbody tr th {\n",
       "        vertical-align: top;\n",
       "    }\n",
       "\n",
       "    .dataframe thead th {\n",
       "        text-align: right;\n",
       "    }\n",
       "</style>\n",
       "<table border=\"1\" class=\"dataframe\">\n",
       "  <thead>\n",
       "    <tr style=\"text-align: right;\">\n",
       "      <th></th>\n",
       "      <th>Open</th>\n",
       "      <th>High</th>\n",
       "      <th>Low</th>\n",
       "      <th>Close</th>\n",
       "      <th>Shares Traded</th>\n",
       "      <th>Turnover (Rs. Cr)</th>\n",
       "    </tr>\n",
       "  </thead>\n",
       "  <tbody>\n",
       "    <tr>\n",
       "      <th>count</th>\n",
       "      <td>216.000000</td>\n",
       "      <td>216.000000</td>\n",
       "      <td>216.000000</td>\n",
       "      <td>216.000000</td>\n",
       "      <td>2.160000e+02</td>\n",
       "      <td>216.000000</td>\n",
       "    </tr>\n",
       "    <tr>\n",
       "      <th>mean</th>\n",
       "      <td>17076.080556</td>\n",
       "      <td>17173.718287</td>\n",
       "      <td>16962.103009</td>\n",
       "      <td>17074.698611</td>\n",
       "      <td>2.891694e+08</td>\n",
       "      <td>22865.901944</td>\n",
       "    </tr>\n",
       "    <tr>\n",
       "      <th>std</th>\n",
       "      <td>752.336415</td>\n",
       "      <td>737.163976</td>\n",
       "      <td>759.688275</td>\n",
       "      <td>751.959335</td>\n",
       "      <td>7.581147e+07</td>\n",
       "      <td>5448.469259</td>\n",
       "    </tr>\n",
       "    <tr>\n",
       "      <th>min</th>\n",
       "      <td>15272.650000</td>\n",
       "      <td>15382.500000</td>\n",
       "      <td>15183.400000</td>\n",
       "      <td>15293.500000</td>\n",
       "      <td>4.502948e+07</td>\n",
       "      <td>3772.490000</td>\n",
       "    </tr>\n",
       "    <tr>\n",
       "      <th>25%</th>\n",
       "      <td>16507.150000</td>\n",
       "      <td>16633.812500</td>\n",
       "      <td>16438.825000</td>\n",
       "      <td>16515.150000</td>\n",
       "      <td>2.443183e+08</td>\n",
       "      <td>19411.805000</td>\n",
       "    </tr>\n",
       "    <tr>\n",
       "      <th>50%</th>\n",
       "      <td>17221.450000</td>\n",
       "      <td>17335.875000</td>\n",
       "      <td>17076.825000</td>\n",
       "      <td>17231.875000</td>\n",
       "      <td>2.705888e+08</td>\n",
       "      <td>21614.825000</td>\n",
       "    </tr>\n",
       "    <tr>\n",
       "      <th>75%</th>\n",
       "      <td>17664.487500</td>\n",
       "      <td>17723.225000</td>\n",
       "      <td>17519.700000</td>\n",
       "      <td>17632.237500</td>\n",
       "      <td>3.139835e+08</td>\n",
       "      <td>25100.237500</td>\n",
       "    </tr>\n",
       "    <tr>\n",
       "      <th>max</th>\n",
       "      <td>18398.250000</td>\n",
       "      <td>18442.150000</td>\n",
       "      <td>18344.150000</td>\n",
       "      <td>18409.650000</td>\n",
       "      <td>6.516136e+08</td>\n",
       "      <td>52929.350000</td>\n",
       "    </tr>\n",
       "  </tbody>\n",
       "</table>\n",
       "</div>"
      ],
      "text/plain": [
       "               Open          High           Low         Close  Shares Traded  \\\n",
       "count    216.000000    216.000000    216.000000    216.000000   2.160000e+02   \n",
       "mean   17076.080556  17173.718287  16962.103009  17074.698611   2.891694e+08   \n",
       "std      752.336415    737.163976    759.688275    751.959335   7.581147e+07   \n",
       "min    15272.650000  15382.500000  15183.400000  15293.500000   4.502948e+07   \n",
       "25%    16507.150000  16633.812500  16438.825000  16515.150000   2.443183e+08   \n",
       "50%    17221.450000  17335.875000  17076.825000  17231.875000   2.705888e+08   \n",
       "75%    17664.487500  17723.225000  17519.700000  17632.237500   3.139835e+08   \n",
       "max    18398.250000  18442.150000  18344.150000  18409.650000   6.516136e+08   \n",
       "\n",
       "       Turnover (Rs. Cr)  \n",
       "count         216.000000  \n",
       "mean        22865.901944  \n",
       "std          5448.469259  \n",
       "min          3772.490000  \n",
       "25%         19411.805000  \n",
       "50%         21614.825000  \n",
       "75%         25100.237500  \n",
       "max         52929.350000  "
      ]
     },
     "execution_count": 59,
     "metadata": {},
     "output_type": "execute_result"
    }
   ],
   "source": [
    "df.describe()"
   ]
  },
  {
   "cell_type": "code",
   "execution_count": 60,
   "id": "9a1f6fac",
   "metadata": {},
   "outputs": [
    {
     "data": {
      "text/plain": [
       "0      False\n",
       "1      False\n",
       "2      False\n",
       "3      False\n",
       "4      False\n",
       "       ...  \n",
       "211    False\n",
       "212    False\n",
       "213    False\n",
       "214    False\n",
       "215    False\n",
       "Length: 216, dtype: bool"
      ]
     },
     "execution_count": 60,
     "metadata": {},
     "output_type": "execute_result"
    }
   ],
   "source": [
    "df.duplicated()"
   ]
  },
  {
   "cell_type": "code",
   "execution_count": 61,
   "id": "0297ec9d",
   "metadata": {},
   "outputs": [
    {
     "data": {
      "text/plain": [
       "0"
      ]
     },
     "execution_count": 61,
     "metadata": {},
     "output_type": "execute_result"
    }
   ],
   "source": [
    "df.duplicated().sum()"
   ]
  },
  {
   "cell_type": "code",
   "execution_count": 62,
   "id": "299db451",
   "metadata": {
    "scrolled": true
   },
   "outputs": [],
   "source": [
    "import missingno as ms"
   ]
  },
  {
   "cell_type": "code",
   "execution_count": 63,
   "id": "a58473a3",
   "metadata": {},
   "outputs": [
    {
     "data": {
      "text/plain": [
       "<AxesSubplot:>"
      ]
     },
     "execution_count": 63,
     "metadata": {},
     "output_type": "execute_result"
    },
    {
     "data": {
      "image/png": "[encoded data removed]",
      "text/plain": [
       "<Figure size 1800x720 with 3 Axes>"
      ]
     },
     "metadata": {
      "needs_background": "light"
     },
     "output_type": "display_data"
    }
   ],
   "source": [
    "ms.bar(df)"
   ]
  },
  {
   "cell_type": "code",
   "execution_count": 64,
   "id": "25001515",
   "metadata": {},
   "outputs": [
    {
     "name": "stderr",
     "output_type": "stream",
     "text": [
      "C:\\Users\\bobir\\anaconda3\\lib\\site-packages\\seaborn\\matrix.py:305: UserWarning: Attempting to set identical left == right == 0 results in singular transformations; automatically expanding.\n",
      "  ax.set(xlim=(0, self.data.shape[1]), ylim=(0, self.data.shape[0]))\n",
      "C:\\Users\\bobir\\anaconda3\\lib\\site-packages\\seaborn\\matrix.py:305: UserWarning: Attempting to set identical bottom == top == 0 results in singular transformations; automatically expanding.\n",
      "  ax.set(xlim=(0, self.data.shape[1]), ylim=(0, self.data.shape[0]))\n"
     ]
    },
    {
     "data": {
      "text/plain": [
       "<AxesSubplot:>"
      ]
     },
     "execution_count": 64,
     "metadata": {},
     "output_type": "execute_result"
    },
    {
     "data": {
      "image/png": "[encoded data removed]",
      "text/plain": [
       "<Figure size 1440x864 with 2 Axes>"
      ]
     },
     "metadata": {
      "needs_background": "light"
     },
     "output_type": "display_data"
    }
   ],
   "source": [
    "ms.heatmap(df)"
   ]
  },
  {
   "cell_type": "code",
   "execution_count": 65,
   "id": "ab9cd41c",
   "metadata": {},
   "outputs": [],
   "source": [
    "import seaborn as sms"
   ]
  },
  {
   "cell_type": "code",
   "execution_count": 66,
   "id": "6bc076d2",
   "metadata": {},
   "outputs": [
    {
     "name": "stdout",
     "output_type": "stream",
     "text": [
      "<class 'pandas.core.frame.DataFrame'>\n",
      "RangeIndex: 216 entries, 0 to 215\n",
      "Data columns (total 7 columns):\n",
      " #   Column             Non-Null Count  Dtype  \n",
      "---  ------             --------------  -----  \n",
      " 0   Date               216 non-null    object \n",
      " 1   Open               216 non-null    float64\n",
      " 2   High               216 non-null    float64\n",
      " 3   Low                216 non-null    float64\n",
      " 4   Close              216 non-null    float64\n",
      " 5   Shares Traded      216 non-null    int64  \n",
      " 6   Turnover (Rs. Cr)  216 non-null    float64\n",
      "dtypes: float64(5), int64(1), object(1)\n",
      "memory usage: 11.0+ KB\n"
     ]
    }
   ],
   "source": [
    "df.info()"
   ]
  },
  {
   "cell_type": "code",
   "execution_count": 67,
   "id": "9aa829a6",
   "metadata": {},
   "outputs": [
    {
     "name": "stderr",
     "output_type": "stream",
     "text": [
      "C:\\Users\\bobir\\anaconda3\\lib\\site-packages\\seaborn\\distributions.py:2619: FutureWarning: `distplot` is a deprecated function and will be removed in a future version. Please adapt your code to use either `displot` (a figure-level function with similar flexibility) or `kdeplot` (an axes-level function for kernel density plots).\n",
      "  warnings.warn(msg, FutureWarning)\n"
     ]
    },
    {
     "data": {
      "text/plain": [
       "<AxesSubplot:xlabel='Close', ylabel='Density'>"
      ]
     },
     "execution_count": 67,
     "metadata": {},
     "output_type": "execute_result"
    },
    {
     "data": {
      "image/png": "[encoded data removed]",
      "text/plain": [
       "<Figure size 432x288 with 1 Axes>"
      ]
     },
     "metadata": {
      "needs_background": "light"
     },
     "output_type": "display_data"
    }
   ],
   "source": [
    "sms.distplot(df['Close'], hist = False)"
   ]
  },
  {
   "cell_type": "code",
   "execution_count": 68,
   "id": "1f2a8bb9",
   "metadata": {},
   "outputs": [
    {
     "data": {
      "text/plain": [
       "<seaborn.axisgrid.FacetGrid at 0x1775d700>"
      ]
     },
     "execution_count": 68,
     "metadata": {},
     "output_type": "execute_result"
    },
    {
     "data": {
      "image/png": "[encoded data removed]",
      "text/plain": [
       "<Figure size 360x360 with 1 Axes>"
      ]
     },
     "metadata": {
      "needs_background": "light"
     },
     "output_type": "display_data"
    }
   ],
   "source": [
    "sms.displot(df['Close'])"
   ]
  },
  {
   "cell_type": "code",
   "execution_count": 69,
   "id": "0da16968",
   "metadata": {},
   "outputs": [
    {
     "name": "stderr",
     "output_type": "stream",
     "text": [
      "C:\\Users\\bobir\\anaconda3\\lib\\site-packages\\seaborn\\distributions.py:2619: FutureWarning: `distplot` is a deprecated function and will be removed in a future version. Please adapt your code to use either `displot` (a figure-level function with similar flexibility) or `histplot` (an axes-level function for histograms).\n",
      "  warnings.warn(msg, FutureWarning)\n"
     ]
    },
    {
     "data": {
      "text/plain": [
       "<AxesSubplot:xlabel='Close', ylabel='Density'>"
      ]
     },
     "execution_count": 69,
     "metadata": {},
     "output_type": "execute_result"
    },
    {
     "data": {
      "image/png": "[encoded data removed]",
      "text/plain": [
       "<Figure size 432x288 with 1 Axes>"
      ]
     },
     "metadata": {
      "needs_background": "light"
     },
     "output_type": "display_data"
    }
   ],
   "source": [
    "sms.distplot(df['Close'], hist_kws = dict(linewidth = 2, edgecolor = 'r'))"
   ]
  },
  {
   "cell_type": "code",
   "execution_count": 70,
   "id": "f952feba",
   "metadata": {},
   "outputs": [
    {
     "name": "stderr",
     "output_type": "stream",
     "text": [
      "C:\\Users\\bobir\\anaconda3\\lib\\site-packages\\seaborn\\distributions.py:2619: FutureWarning: `distplot` is a deprecated function and will be removed in a future version. Please adapt your code to use either `displot` (a figure-level function with similar flexibility) or `histplot` (an axes-level function for histograms).\n",
      "  warnings.warn(msg, FutureWarning)\n"
     ]
    },
    {
     "data": {
      "text/plain": [
       "<AxesSubplot:xlabel='Close', ylabel='Density'>"
      ]
     },
     "execution_count": 70,
     "metadata": {},
     "output_type": "execute_result"
    },
    {
     "data": {
      "image/png": "[encoded data removed]",
      "text/plain": [
       "<Figure size 432x288 with 1 Axes>"
      ]
     },
     "metadata": {
      "needs_background": "light"
     },
     "output_type": "display_data"
    }
   ],
   "source": [
    "sms.distplot(df['Close'], hist_kws = dict(linewidth = 2, color = 'g', edgecolor ='r'))"
   ]
  },
  {
   "cell_type": "code",
   "execution_count": 72,
   "id": "0059638e",
   "metadata": {},
   "outputs": [],
   "source": [
    "sms.set_style('whitegrid')"
   ]
  },
  {
   "cell_type": "code",
   "execution_count": 74,
   "id": "7a550e00",
   "metadata": {},
   "outputs": [
    {
     "name": "stderr",
     "output_type": "stream",
     "text": [
      "C:\\Users\\bobir\\anaconda3\\lib\\site-packages\\seaborn\\distributions.py:2619: FutureWarning: `distplot` is a deprecated function and will be removed in a future version. Please adapt your code to use either `displot` (a figure-level function with similar flexibility) or `histplot` (an axes-level function for histograms).\n",
      "  warnings.warn(msg, FutureWarning)\n"
     ]
    },
    {
     "data": {
      "text/plain": [
       "<AxesSubplot:xlabel='Close', ylabel='Density'>"
      ]
     },
     "execution_count": 74,
     "metadata": {},
     "output_type": "execute_result"
    },
    {
     "data": {
      "image/png": "[encoded data removed]",
      "text/plain": [
       "<Figure size 432x288 with 1 Axes>"
      ]
     },
     "metadata": {},
     "output_type": "display_data"
    }
   ],
   "source": [
    "sms.distplot(df['Close'], hist_kws = dict(linewidth = 2, color = 'g', edgecolor ='r'))"
   ]
  },
  {
   "cell_type": "code",
   "execution_count": 75,
   "id": "9834036b",
   "metadata": {},
   "outputs": [
    {
     "name": "stderr",
     "output_type": "stream",
     "text": [
      "C:\\Users\\bobir\\anaconda3\\lib\\site-packages\\seaborn\\distributions.py:2619: FutureWarning: `distplot` is a deprecated function and will be removed in a future version. Please adapt your code to use either `displot` (a figure-level function with similar flexibility) or `kdeplot` (an axes-level function for kernel density plots).\n",
      "  warnings.warn(msg, FutureWarning)\n"
     ]
    },
    {
     "data": {
      "text/plain": [
       "<AxesSubplot:xlabel='Close', ylabel='Density'>"
      ]
     },
     "execution_count": 75,
     "metadata": {},
     "output_type": "execute_result"
    },
    {
     "data": {
      "image/png": "[encoded data removed]",
      "text/plain": [
       "<Figure size 432x288 with 1 Axes>"
      ]
     },
     "metadata": {},
     "output_type": "display_data"
    }
   ],
   "source": [
    "sms.distplot(df['Close'], hist = False)"
   ]
  },
  {
   "cell_type": "code",
   "execution_count": 77,
   "id": "2dfc5c1b",
   "metadata": {},
   "outputs": [],
   "source": [
    "import matplotlib.pyplot as plt"
   ]
  },
  {
   "cell_type": "code",
   "execution_count": 78,
   "id": "fb4d6a9d",
   "metadata": {},
   "outputs": [
    {
     "name": "stderr",
     "output_type": "stream",
     "text": [
      "C:\\Users\\bobir\\anaconda3\\lib\\site-packages\\seaborn\\distributions.py:2619: FutureWarning: `distplot` is a deprecated function and will be removed in a future version. Please adapt your code to use either `displot` (a figure-level function with similar flexibility) or `kdeplot` (an axes-level function for kernel density plots).\n",
      "  warnings.warn(msg, FutureWarning)\n"
     ]
    },
    {
     "data": {
      "image/png": "[encoded data removed]",
      "text/plain": [
       "<Figure size 576x576 with 1 Axes>"
      ]
     },
     "metadata": {},
     "output_type": "display_data"
    }
   ],
   "source": [
    "x, y = plt.subplots(figsize = (8,8))\n",
    "sms.distplot(df['Close'], hist = False, ax = y)\n",
    "y.axvline(df['Close'].mean(), color='r', ls = '--');"
   ]
  },
  {
   "cell_type": "code",
   "execution_count": 79,
   "id": "a08bbebd",
   "metadata": {},
   "outputs": [
    {
     "data": {
      "text/html": [
       "<div>\n",
       "<style scoped>\n",
       "    .dataframe tbody tr th:only-of-type {\n",
       "        vertical-align: middle;\n",
       "    }\n",
       "\n",
       "    .dataframe tbody tr th {\n",
       "        vertical-align: top;\n",
       "    }\n",
       "\n",
       "    .dataframe thead th {\n",
       "        text-align: right;\n",
       "    }\n",
       "</style>\n",
       "<table border=\"1\" class=\"dataframe\">\n",
       "  <thead>\n",
       "    <tr style=\"text-align: right;\">\n",
       "      <th></th>\n",
       "      <th>Total_unname</th>\n",
       "    </tr>\n",
       "  </thead>\n",
       "  <tbody>\n",
       "    <tr>\n",
       "      <th>Date</th>\n",
       "      <td>216</td>\n",
       "    </tr>\n",
       "    <tr>\n",
       "      <th>Open</th>\n",
       "      <td>216</td>\n",
       "    </tr>\n",
       "    <tr>\n",
       "      <th>High</th>\n",
       "      <td>216</td>\n",
       "    </tr>\n",
       "    <tr>\n",
       "      <th>Low</th>\n",
       "      <td>216</td>\n",
       "    </tr>\n",
       "    <tr>\n",
       "      <th>Close</th>\n",
       "      <td>216</td>\n",
       "    </tr>\n",
       "    <tr>\n",
       "      <th>Shares Traded</th>\n",
       "      <td>216</td>\n",
       "    </tr>\n",
       "    <tr>\n",
       "      <th>Turnover (Rs. Cr)</th>\n",
       "      <td>216</td>\n",
       "    </tr>\n",
       "  </tbody>\n",
       "</table>\n",
       "</div>"
      ],
      "text/plain": [
       "                   Total_unname\n",
       "Date                        216\n",
       "Open                        216\n",
       "High                        216\n",
       "Low                         216\n",
       "Close                       216\n",
       "Shares Traded               216\n",
       "Turnover (Rs. Cr)           216"
      ]
     },
     "execution_count": 79,
     "metadata": {},
     "output_type": "execute_result"
    }
   ],
   "source": [
    "unname = []\n",
    "for i in df.columns:\n",
    "    x = df[i].value_counts().count()\n",
    "    unname.append(x)\n",
    "pd.DataFrame(unname, index = df.columns, columns = ['Total_unname'])"
   ]
  }
 ],
 "metadata": {
  "kernelspec": {
   "display_name": "Python 3 (ipykernel)",
   "language": "python",
   "name": "python3"
  },
  "language_info": {
   "codemirror_mode": {
    "name": "ipython",
    "version": 3
   },
   "file_extension": ".py",
   "mimetype": "text/x-python",
   "name": "python",
   "nbconvert_exporter": "python",
   "pygments_lexer": "ipython3",
   "version": "3.9.12"
  }
 },
 "nbformat": 4,
 "nbformat_minor": 5
}
